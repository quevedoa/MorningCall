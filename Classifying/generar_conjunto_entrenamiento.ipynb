{
 "cells": [
  {
   "cell_type": "code",
   "execution_count": 7,
   "metadata": {},
   "outputs": [],
   "source": [
    "import os\n",
    "import csv\n",
    "from openai import OpenAI\n",
    "from config import OPENAI_API_KEY\n",
    "os.environ[\"OPENAI_API_KEY\"] = OPENAI_API_KEY"
   ]
  },
  {
   "cell_type": "code",
   "execution_count": 8,
   "metadata": {},
   "outputs": [],
   "source": [
    "articles_csv_path = './articulosfinancieros.csv'\n",
    "articles = []\n",
    "with open(articles_csv_path, 'r', newline='') as csvfile:\n",
    "    csv_reader = csv.DictReader(csvfile)\n",
    "    for row in csv_reader:\n",
    "        article = {\n",
    "            \"titulo\": row['titulo'],\n",
    "            \"fecha\": row['fecha'],\n",
    "            \"texto\": row['texto'],\n",
    "            \"url\": row['url']\n",
    "        }\n",
    "        articles.append(article)"
   ]
  },
  {
   "cell_type": "code",
   "execution_count": 16,
   "metadata": {},
   "outputs": [],
   "source": [
    "classifying_role_long = \"\"\"Eres ChatGPT, un bot inteligente. Te proporcionaré artículos de noticias en español. Tienes que clasificar las noticias en una de las siguientes categorías:\n",
    "Economía,\n",
    "Energía,\n",
    "Materiales (que incluye Químicos, Construcción, Contenedores y Embalajes, Metales y Minería y Productos Forestales),\n",
    "Industriales (que incluye Bienes de Capital, Servicios Comerciales y Profesionales, Transporte),\n",
    "Consumo Discrecional (que incluye Automóviles y Componentes, Bienes Duraderos y Vestimenta, Servicios al Consumidor),\n",
    "Bienes de Consumo Básico (que incluye Alimentos, Bebidas, Tabaco y Productos Domésticos y Personales),\n",
    "Salud,\n",
    "Finanzas,\n",
    "Tecnología de la Información,\n",
    "Servicios de Comunicación,\n",
    "Servicios Públicos,\n",
    "Bienes Raíces,\n",
    "u Otro.\n",
    "Solo puedes elegir una de estas 12 categorías, cualquier otra cosa es inválida\"\"\"\n",
    "\n",
    "classifying_role = \"\"\"Eres ChatGPT, un bot inteligente. Te proporcionaré artículos de noticias en español. Tienes que clasificar las noticias en una de las siguientes categorías:\n",
    "Economía,\n",
    "Energía,\n",
    "Materiales,\n",
    "Industriales,\n",
    "Consumo Discrecional,\n",
    "Bienes de Consumo Básico,\n",
    "Salud,\n",
    "Finanzas,\n",
    "Tecnología de la Información,\n",
    "Servicios de Comunicación,\n",
    "Servicios Públicos,\n",
    "Bienes Raíces,\n",
    "u Otro.\n",
    "Solo puedes elegir una de estas 12 categorías, cualquier otra cosa es inválida. Responde con la clasificación y nada más.\"\"\""
   ]
  },
  {
   "cell_type": "code",
   "execution_count": 17,
   "metadata": {},
   "outputs": [],
   "source": [
    "client = OpenAI()\n",
    "\n",
    "def classify_article(article):\n",
    "    try:\n",
    "        gpt_role = classifying_role\n",
    "        gpt_prompt = article[\"texto\"]\n",
    "        response = client.chat.completions.create(\n",
    "            model=\"gpt-3.5-turbo\",\n",
    "            seed=21,\n",
    "            temperature=0.3,\n",
    "            messages=[\n",
    "                {\"role\": \"system\", \"content\": gpt_role},\n",
    "                {\"role\": \"user\", \"content\": gpt_prompt}\n",
    "            ]\n",
    "        )\n",
    "        return response\n",
    "    except Exception as e:\n",
    "        print(f\"An error occured: {e}\")\n",
    "        return None"
   ]
  },
  {
   "cell_type": "code",
   "execution_count": 20,
   "metadata": {},
   "outputs": [
    {
     "name": "stdout",
     "output_type": "stream",
     "text": [
      "\n",
      "\n",
      "¿Necesitas dinero? Conoce las diferencias entre un crédito de nómina y personal\n",
      "Si estás pensando en acceder a un crédito es importante que conozcas que no todos son iguales.Quizá el banco donde te depositan tu nómina continuamente te hace ofertas de créditos cuyos pagos mensuales se te estarán descontando de tu salario.Parece muy atractivo, pero tienes que hacer el cálculo de cuánto te costará tomar ese préstamo.Por otro lado, están los créditos personales, que te ofrecen las instituciones financieras sin importar si eres o no cliente de ellos, con montos pequeños y accesibles, pero ¿ya viste cuánto pagarás por él?Entonces, ¿Cuál te conviene?Antes de elegir cualquiera de estos créditos es importante que aprendas a diferenciarlos pues la tasa de interés que cobra uno y otro son muy diferentes y las condiciones también.“El crédito personal es aquel en el que la institución financiera presta una cantidad de dinero a una persona a cambio de que se comprometa a pagarla con los intereses que se generen y en un tiempo determinado, según información de la Condusef.Se otorga a cualquier persona y normalmente no requiere de garantía.A su vez, la Condusef detalla que el crédito de nómina es muy parecido al crédito personal, con la diferencia de que éste se descuenta directamente de la cuenta de nómina, es decir, que esto sirve como garantía. Se contrata a través de la institución financiera que tiene abierta la cuenta del trabajador, por lo que los pagos se descuentan de su sueldo.Esas podrían ser las únicas cosas distintas pero la tasa de interés que se cobra entre uno y otro hace la diferencia.Según los datos del Banco de México la tasa de interés promedio en los créditos personales es de 46.77% mientras que en los créditos de nómina la tasa ronda en 27.55 por ciento.¿Por qué esa diferencia?En el crédito personal las instituciones asumen un riesgo más alto por la forma de pago de éste.Según Banxico, los requisitos más comunes para obtener un crédito de este tipo son: tener un ingreso mensual mínimo comprobable, una antigüedad mínima en el puesto de trabajo actual y buen historial crediticio.“Al no ser un préstamo con garantía, y al no existir una fuente de pago asociada, el riesgo del crédito suele ser de los más elevados dentro de la cartera crediticia de los bancos”, se detalla dentro del comparador de créditos del banco central.Con los créditos de nómina la tasa es más baja porque el pago de éstos está garantizado, es decir, se descuentan de la cuenta donde el trabajador recibe su salario, por ello la posibilidad de impago de este dinero es menor.“Los créditos de nómina, normalmente tienen tasas de interés más bajas que los créditos personales y que las tarjetas de crédito, pues a menos que el acreditado pierda su empleo, el pago del crédito está garantizado por la nómina del trabajador. Cuando pides un crédito de nómina, el banco automáticamente deduce del salario que tu empleador deposita cada periodo de pago el monto del pago correspondiente al crédito”, de acuerdo con información de Banxico.Es importante que revises los plazos a los que te prestarán el dinero, de eso depende mucho también el costo que tendrá ese dinero para ti.Por muy atractivo que parezcan los pagos chiquitos, sin son plazos amplios terminarás pagando mucho por tu crédito.Por ejemplo, en los créditos de nómina se consideran plazos de mediano a largo plazo, que van desde seis meses hasta seis años.Es importante que compares siempre lo que ofrecen distintas instituciones de crédito reguladas, compara tasa de interés y el Costo Anual Total (CAT).Cuídate de estafas y siempre revisa que la entidad financiera que te ofrezca el crédito se encuentre dentro del Sistema de Registro de Prestadores de Servicios (Sipres) de la Condusef.yuridia.torres@eleconomista.mx\n",
      "INDUSTRIA CLASIFICADA ---> Finanzas\n",
      "\n",
      "\n",
      "Solidaridad, clave para el éxito comunitario\n",
      "En el corazón de la estrategia de responsabilidad social de General Motors de México late un proyecto vital: la Brigada Cheyenne. Este programa, impulsado por la marca Chevrolet, se erige como un faro de esperanza desde su nacimiento en 2010, cuando el huracán Alex azotó Coahuila. Su misión inicial fue clara: transportar 60 estufas ecológicas a las personas afectadas en Monclova y Sabinas. Desde entonces, la brigada se ha convertido en la amalgama de esfuerzos que busca impactar en comunidades de difícil acceso, respaldando proyectos sostenibles y brindando ayuda humanitaria en situaciones de emergencia.Aliados contra los desafíosCada comunidad visitada presenta desafíos únicos, y la Brigada Cheyenne se enfrenta a ellos con conocimientos, experiencia y dedicación. Los caminos a veces son intransitables, pero la resistencia del Chevrolet Cheyenne, un vehículo 4x4 producido en el complejo de GM en Guanajuato, garantiza la llegada a cualquier rincón, incluso en medio de inundaciones, explica Tere Cid, directora de RP y Comunicación de GM México.Hasta la fecha, la Brigada Cheyenne ha recorrido más de 700,000 kilómetros, beneficiando a 730,000 personas en 315 comunidades. Un éxito destacado que refleja la efectividad de su enfoque sostenible y solidario.Sinergia, la claveDesde su fundación, la Brigada Cheyenne ha demostrado que la colaboración es fundamental para el éxito de la estrategia. En situaciones de emergencia, la sinergia con diferentes aliados ha sido esencial, resalta Tere Cid. Un ejemplo reciente es la colecta realizada por General Motors de México ante los estragos del huracán Otis, donde se recaudaron casi 16 toneladas de ayuda humanitaria, entregadas con la Brigada Cheyenne a la Cruz Roja Mexicana y otras comunidades afectadas. La colaboración se extiende a la educación, la construcción de viviendas, la producción de miel orgánica y la movilización de ayuda humanitaria en desastres naturales. Aliados como Cruz Roja Mexicana han sido piezas clave en proyectos con impacto duradero.viridiana.diaz@eleconomista.mx\n",
      "INDUSTRIA CLASIFICADA ---> Servicios Públicos\n",
      "\n",
      "\n",
      "Impulsan sostenibilidad con prácticas respetuosas\n",
      "ETAM apuesta por tecnologías sustentables, como el uso de fibras reciclables y telas orgánicas, demostrando un enfoque integral hasta el posconsumo”.Alexandra Bartra, country manager de ETAM.La moda sostenible se erige como un imperativo ineludible en la estrategia global de ETAM, con especial énfasis en México. La transición hacia prácticas más respetuosas con el medio ambiente y socialmente responsables representa uno de sus principales desafíos, abordando con determinación dos metas fundamentales: reducir el impacto ambiental y respaldar a empleados y comunidades de mujeres.Enfrentando la cuestión de la huella ambiental en la producción textil, ETAM ha introducido el programa WECARE, que abarca más del 70% de sus productos, destacando prácticas sostenibles como el uso de algodón orgánico, fibras reciclables y procesos de coloración vegetal. Este programa se articula en torno a nueve pilares, que incluyen desde la transparencia de la cadena de suministro hasta la economía circular y la diversidad, destacó Alexandra Bartra, country manager de la empresa.Para asegurar condiciones laborales éticas, la firma ha implementado un innovador sistema de trazabilidad, donde cada producto contiene un código QR que permite a los consumidores visualizar el lugar de producción o acceder a información detallada sobre la fábrica. Además, el 94% de las fábricas textiles de ETAM están certificadas con estándares sociales avanzados, asegurando el respeto a los derechos laborales y condiciones de trabajo justas.Aunado a lo anterior, fomentar prácticas de consumo consciente es un compromiso a largo plazo para la compañía. La marca comunica activamente sus acciones a través de campañas sobre el programa WECARE, destacando la transparencia industrial. Cabe resaltar que las prendas WECARE no tienen un costo adicional, subrayando el compromiso de ETAM con la moda sostenible y accesible para todos.En el ámbito de la innovación, ETAM apuesta por tecnologías que impulsan la sostenibilidad. El uso de fibras reciclables y telas orgánicas, así como la implementación de programas de recolección de prendas usadas, demostrando un enfoque integral desde la producción hasta el posconsumo, agregó Alexandra Bartra.Reducir el uso de recursos no renovables es un objetivo clave para ETAM, evidenciado por el empleo de telas recicladas en más del 70% de sus productos y la drástica disminución del consumo de plástico con miras a eliminarlo por completo para el 2030.En un espíritu de colaboración, ETAM participa activamente con asociaciones como The Fashion Pact, Textile Exchange, Amfori y Re Fashion, reconociendo que la solución a los desafíos de la moda sostenible es colectiva. Estas alianzas fortalecen el compromiso del Grupo ETAM hacia una transición ecológica y social en la industria textil.viridian.diaz@eleconomista.mx\n",
      "INDUSTRIA CLASIFICADA ---> Sostenibilidad.\n",
      "\n",
      "\n",
      "Promueven consumo responsable de alcohol\n",
      "En el Senado de la República, Heineken México, la Secretaría de Desarrollo Económico de la Ciudad de México y Coparmex CDMX unieron fuerzas para impulsar un cambio cultural en el consumo de alcohol entre los jóvenes a través de 10 conferencias en diversas universidades de la capital, orientadas a sensibilizar sobre los efectos del consumo excesivo y fomentar la responsabilidad.Luis Alberto Fuentes Hernández, coordinador de Relaciones Institucionales de Heineken México, destacó la iniciativa Brindar Un Mundo Mejor, parte de la estrategia global de sustentabilidad, que busca promover un consumo inteligente, enfatizando en alternativas sin alcohol, la moderación y la prevención del consumo nocivo. La cervecera ha impactado en más de 60 millones de personas a través de la iniciativa Tecate 18+, centrándose en prevenir el consumo dañino en menores de edad.El Secretario de Desarrollo Económico, Fadlala Akabani Hneide, y Anabel León Martínez, presidenta de la Comisión Empresarios Jóvenes de Coparmex CDMX, resaltaron la importancia de la colaboración entre el sector gubernamental y empresarial para generar conciencia en la población juvenil sobre los riesgos asociados al consumo irresponsable de alcohol.viridiana.diaz@eleconomista.mx\n",
      "INDUSTRIA CLASIFICADA ---> Consumo Discrecional\n",
      "\n",
      "\n",
      "Huelga en Audi dependerá del acuerdo entre empresa y sindicato\n",
      "El próximo miércoles 24 de enero a las 11:00 podría estallar la huelga en Audi, Puebla; dado que los trabajadores demandan, en la revisión contractual, un incremento de 17%, mientras que la empresa hasta ahora ha presentado una propuesta del 5 por ciento.La postura que la empresa ha difundido es que las negociaciones siguen en curso, y de talla que “Audi de México ha ofrecido un incremento integral de 5% más estabilidad laboral para el año 2024, esta cifra es mayor a la inflación. La solicitud de SITAUDI es de 17%, misma cifra con la que se entregó el pliego petitorio en octubre de 2023”, dicha situación ha llevado que este martes 23 de enero a las 10:00 acudirán a la Secretaría de Trabajo y Previsión Social (STPS).Asimismo, por la tarde continuarán las pláticas conciliatorias en el Tribunal Federal Laboral de Asuntos Colectivos, sólo en caso de que las partes tengan un acuerdo, se deberá realizar un proceso de votación de los trabajadores y que está regulado por el Centro Federal de Conciliación y Registro Laboral.Por su parte, el Sindicato Independiente de Trabajadores de Audi México detalló que flexibilizaron su propuesta del 20 al 17% para aplicarlo de la siguiente manera: incremento de 400 pesos en vales de despensa; incremento de 2% en fondo de ahorro; incremento del 50% en prima vacacional; incremento de 550 pesos en bono por tope salarial; disminuir el costo del transporte a 5 pesos por viaje sencillo e incremento de 300 pesos en ayuda de útiles escolares.Asimismo, el sindicato inició con un proceso de consulta —voto libre, secreto y directo— con los trabajadores este 22 de enero, sin que esté contemplado en la Ley, pues desean corroborar si aceptan la propuesta de la empresa y flexibilizan su demanda antes del emplazamiento a huelga.De acuerdo con los resultados, 3,090 de los trabajadores sindicalizados están en contra de la propuesta de la empresa; mientras que hay 203 a favor; 14 votos nulos y 852 boletas inutilizadas.En caso de que no haya acuerdo, aún es posible emitir una prórroga para el emplazamiento a huelga, de ahí la intervención de la STPS a partir de mañana.\n",
      "INDUSTRIA CLASIFICADA ---> Industriales\n",
      "\n",
      "\n",
      "Hay 780 millones de pesos para liquidar a trabajadores de Interjet: SICT\n",
      "Se vuelve a encender la luz a los colaboradores de Interjet. Este lunes, la Secretaría de Infraestructura, Comunicaciones y Transportes (SICT) afirmó que el Síndico designado por la dependencia en la quiebra de la empresa, Expediente 17/2022, que lleva el Juez Segundo de Distrito en Materia de Concursos Mercantiles de la Ciudad de México, logró una nueva recuperación de 427 millones de pesos.Lo anterior sumado a la recuperación de octubre pasado, 353 millones de pesos, da un total aproximado de 800 millones de pesos a favor de los trabajadores de la aerolínea que dejó de volar en enero del 2020.“La SICT instruyó al Síndico solicitar la autorización judicial para la dispersión a los trabajadores, en coordinación con la Secretaría del Trabajo y Previsión Social y la Junta Federal de Conciliación y Arbitraje, quienes han brindado facilidades en este proceso. Se estima que la distribución inicie durante el mes de febrero de este año”, se informó en un comunicado.Horas antes, el presidente del Consejo de Administración de Interjet, Alejandro del Valle, reiteró a El Economista que el síndico Alfonso Ascencio Triujeque, no estaba cumpliendo con su labor de liquidar a los trabajadores, a pesar de que ya tenía recursos en caja para hacerlo, con lo que obstaculiza el eventual regreso de operaciones.El pasado 13 de octubre la SICT informó que había recuperado 353 millones de pesos a favor de los colaboradores de la aerolínea. Ese día, instruyó al Síndico para que dicho monto se entregara a los trabajadores lo antes posible, para lo cual, solicitaría el apoyo de la Junta Federal de Conciliación y Arbitraje, previas autorizaciones del Juez competente. Y no hay resultados.“El señor tiene dinero en el Banco del Bienestar en la cuenta de ABC Aerolíneas, de la marca Interjet, con la firma única de él para liquidar el 100% de los empleados. No lo hace. No entiendo, qué poder tiene para brincarse la ley… Incluso ha dicho que investiga el origen de los recursos, a pesar de provenir de empresas formales”, comentó el empresario.Desde su perspectiva, el dinero que se ha recuperado, incluyendo el regreso de cuentas por cobrar o anticipos ronda los 100,000 millones de dólares, suficientes para liquidar a los 4,114 trabajadores que están registrados ante las autoridades y con ello dar un segundo paso para que Interjet levante el vuelo.“Consideramos que el Síndico busca rematar la empresa y entonces sí desaparece todo. Nosotros vamos a actuar conforme a derecho para levantar a la empresa. Luego de que se liquide a los trabajadores se invitará a los que gusten a formar parte de la nueva etapa”, apuntó Del Valle.\n",
      "INDUSTRIA CLASIFICADA ---> Finanzas\n",
      "\n",
      "\n",
      "Empresarios en México tienen mayor temor al cambio de gobierno que a desaceleración: consultora\n",
      "En pleno año electoral en México, el cambio de administración federal, la gobernabilidad y la persistente inseguridad son las principales preocupaciones para las empresas y sus operaciones, según mostró el lunes una encuesta de la consultora KPMG.La encuesta, que incluyó a más de 900 ejecutivos de diferentes industrias del país, mostró que el 58% de los participantes ve un cambio en la administración federal como el factor que tendría mayor impacto en sus operaciones, incluso por encima de una potencial desaceleración económica.En la contienda por la victoria en las elecciones presidenciales de México del 2 de junio, la candidata del partido gobernante Movimiento Regeneración Nacional (Morena), Claudia Sheinbaum, mantiene una fuerte ventaja sobre su principal rival, según las encuestas, lo que apuntaría a una herencia de la actual administración.Además, casi la mitad de los ejecutivos consideró que los riesgos más apremiantes para las empresas del país latinoamericano son el estado de derecho y la inseguridad, y que estos factores podrían tener un impacto significativo en sus estrategias.\"Aumenta la preocupación que los líderes de empresas en México ven en los riesgos de la inseguridad y el Estado de derecho, que pasa de un cuarto puesto en 2023 a encabezar los miedos de los dirigentes empresariales\", dijo Gerardo Rojas, socio líder de la Práctica de Asesoría de KPMG en México y Centroamérica, en una conferencia sobre el estudio.México superó al peso pesado regional Brasil como lugar de preferencia para inversionistas y actividad de fusiones y adquisiciones, según una encuesta de 2023.\"Nos llamó la atención que México desplazara en la preferencia a Brasil. Históricamente, Brasil aparecía como la preferencia\", especificó Rojas, señalando como principal motivo la guerra comercial entre Estados Unidos y China que da paso al \"nearshoring\".El 70% de los encuestados señaló que realizará nuevas inversiones en 2024, y a la hora de buscar expandirse en el país la mayoría apuntó al estado norteño de Nuevo León como su destino, debido principalmente a su ubicación estratégica.\n",
      "INDUSTRIA CLASIFICADA ---> Economía\n",
      "\n",
      "\n",
      "Sindicato avanza en negociaciones con Goodyear de México para la aplicación del Contrato Ley de la Industria Hulera\n",
      "La Liga Sindical Obrera Mexicana selló un logro histórico al imponer la aplicación del Contrato Ley de la Industria Hulera en la empresa Goodyear de México en su planta de San Luis Potosí, en donde por años se hizo uso de un contrato colectivo de trabajo de manera indebida. Además de que seguirán las negociaciones salariales cuya demanda es de 10.5% de incremento.La Liga Sindical informó en cumplimiento de los derechos laborales, amparados por el Contrato Ley, los trabajadores accederán a pagos que les habían sido ilegalmente negados, como el Fondo de Previsión Social, que representa el 14.5% de los salarios anualizados del personal sindicalizado; el 13% del fondo de ahorro; la aportación del IMSS correspondiente a las personas trabajadoras; un incremento en la prima vacacional de hasta 108% dependiente de la antigüedad; el pago de 44 días de aguinaldo (se venían pagando solo 28); la jornada semanal de trabajo de 40 horas, con pago de 56; pago de 120% de prima dominical, entre otras.Sin contar con el incremento que un importante grupo de personas recibirá por la corrección al tabulador salarial, que se ha creado, a propuesta de la Liga, para hacerlo compatible con el Contrato Ley, así el sistema de pago de prestaciones ligadas al salario, que gozará el conjunto del personal sindicalizado” refirió la secretaria general de la Liga, Julieta Mónica Morales García.De esta manera, concluyeron las pláticas entre la representación de la Liga Sindical Obrera Mexicana y la empresa Goodyear SLP, que tuvieron el objetivo de acordar las medidas necesarias para la aplicación del Contrato Ley de la Industria Hulera, “esa fue una de las principales resoluciones del Mecanismo Laboral de Respuesta Rápida para reparar las violaciones a los derechos laborales en que incurrió la empresa, durante los años previos, cuando fue aplicado ilegalmente un contrato colectivo firmado con la CTM, que negó a las personas trabajadoras de Goodyear las prestaciones, remuneraciones y relaciones de trabajo que establece el Contrato Ley”, dijo.Es de especial importancia la configuración de un nuevo tabulador salarial, propuesto por la Liga, que genera nuevas categorías de trabajo, basada en las posiciones de las personas en el proceso de trabajo dentro de la fábrica, con nuevos niveles salariales para personas que desarrollan labores con mayor cualificación, recuperando para la progresión salarial el criterio básico de la antigüedad, que está señalado en el Contrato Ley.Con ello, se recupera la generación de escalafones por área, las especialidades en el trabajo, así como un sistema de pagos basado en una remuneración salarial dependiente de la labor de las personas, que implica pagar más, cuando se desarrolle la labor de una categoría con mayor salario; y será con base en el cálculo del salario promedio de las cuatro semanas de trabajo previas al goce las prestaciones como la prima vacacional, que alcanza entre 25 y 31 días, dependiendo de la antigüedad y el aguinaldo equivale a 44 días.En lo inmediato, los ingresos de las personas trabajadoras en Goodyear experimentarán una mejoría considerable, gracias al pago de prestaciones que ahora serán cubiertas, además de que tendrán una expectativa real de mejora para los próximos años. También se fortalecerá el ejercicio de la bilateralidad en las relaciones laborales.\n",
      "INDUSTRIA CLASIFICADA ---> Industriales\n",
      "\n",
      "\n",
      "Banorte espera que el buen dinamismo de la economía se mantenga durante la primera mitad del 2024\n",
      "Banorte espera que el notable dinamismo que ha mostrado la economía mexicana a largo de los últimos ocho trimestres, se mantenga durante la primera mitad del 2024, aunque anticipa una contracción para la segunda parte del año.El grupo financiero regiomontano tiene la proyección de que el Producto Interno Bruto (PIB) nacional, haya crecido 3.3% en el 2023, y que lo haga en 2.4% en todo el 2024.En su Perspectiva Trimestral para el primer cuarto del año, elaborada por su área de análisis económico, Banorte detalló que, partiendo de un impulso inercial relevante -considerando su expectativa de un avance de 3.3% del PIB en todo el 2023-, varios factores darán todavía un mayor impulso.Entre éstos se encuentran, puntualizó, la continuación de los proyectos prioritarios, con miras a terminar la mayor parte antes de las elecciones del próximo 2 de junio; así como la expansión de los programas sociales y el momento en el que se entregarán los recursos, dado que una serie de pagos, incluida la pensión a los adultos mayores, se adelantarán a marzo para cumplir con las reglas electorales.La institución resaltó también la prevalencia de una tendencia favorable de la inversión privada, sobre todo la ligada al fenómeno conocido como nearshoring; la posibilidad de que se materialice un “aterrizaje suave”, sumándose a las expectativas de recortes a las tasas de interés y ganancia de participación en el mercado de importaciones de Estados Unidos; así como el avance de los salarios por encima de la inflación, apoyando el crecimiento del ingreso real.No obstante, la institución anticipó una contracción en la segunda mitad del 2024, con una mayor desaceleración global y un menor gasto gubernamental, además de una base de comparación más retadora.“Tomando en cuenta la coyuntura internacional, esperamos que México mantenga un buen dinamismo, con una expectativa de crecimiento del PIB de 2.4% este año. Esto sería menor al 2023, pero aún arriba de su potencial”, señaló.Consideró que es probable que el Banco de México (Banxico) comience a recortar tasas en marzo, pero con una estrategia gradual, llevándola a 9.25% a finales de diciembre.De igual forma, refirió que la política fiscal otorgará un mayor estímulo a la economía, lo que se verá reflejado sobre todo en el primer semestre. “Otro aspecto importante serán los comicios del 2 de junio”, expuso.Atención se centrará en temas electoralesEl análisis de Banorte, mencionó que la atención en el trimestre se centrará en temas electorales, destacando las fechas límite para el registro y aprobación de las candidaturas y coaliciones a finales de febrero, y el comienzo de las campañas el 1 de marzo.\n",
      "INDUSTRIA CLASIFICADA ---> Economía\n",
      "\n",
      "\n",
      "KIO Data Centers anuncia planes de expansión en Nuevo León y Querétaro\n",
      "Monterrey, NL. KIO Data Centers anunció que para estar cerca del mercado norteamericano, se está expandiendo al norte del país. Por ello adquirió un terreno de 14,000 metros cuadrados para construir el segundo centro de datos en el Asia Pacific Park, en el municipio de Pesquería, Nuevo León.Este proyecto contará inicialmente con dos salas de datos de 1,200 metros cuadrados con suministro de energía de 2 Megawatts (MW) en su primera fase, con capacidad de crecimiento de hasta 8 MW, y planea continuar su expansión a ocho salas en una fase posterior, “manteniendo nuestro modelo de redundancia característico”.“KIO MTY2 ofrecerá una conectividad sólida con triple redundancia de rutas para conexiones de operadores. Nuestro enfoque también se centra en la proximidad al mercado norteamericano, atrayendo a clientes y sectores que necesitan conectividad específica con empresas con sede en Estados Unidos”, dijo Santiago Suinaga, CEO de KIO Data Centers.Crece Mega-Campus en QuerétaroSantiago Suinaga, destacó que este año están listos para terminar la construcción de su segundo Centro de Datos en Querétaro (KIO QRO2). Esta instalación será una parte clave del Mega-Campus conformado por tres centros en el estado, en el Parque Industrial El Marqués, de Querétaro.“La construcción va según lo planeado y estamos emocionados por el progreso. Es un gran avance tanto para nosotros como para nuestros clientes; crecemos más fuertes cada día”, indicó el directivo.Estos centros están conectados por anillos de fibra, ofreciendo una conectividad mejorada y alta disponibilidad para clientes que necesiten espacio adicional para el crecimiento o nuevas empresas en diversos sectores.KIO QRO2 y KIO QRO3 construirán sobre el ecosistema de interconexión establecido por QRO1 en las últimas dos décadas. Con una capacidad de 12 Megawatts (MW), las ofertas de KIO QRO2 incluyen espacios de gran capacidad para infraestructura de TI, que constan de tres Salas de Datos de 1200 m2 con amplia potencia en la primera fase.Esta configuración permite a KIO atender a tres segmentos clave que necesitan servicios de centro de datos: minorista, mayorista y hyperscale.KIO es una plataforma de centros de datos e infraestructura digital con más de 20 años de experiencia en colocación y servicios de TI. Cuenta con 13 centros de datos principales con 26 Megavatios de capacidad de energía para TI distribuidos en México, Colombia, Panamá, Guatemala, República Dominicana y España.\n",
      "INDUSTRIA CLASIFICADA ---> Tecnología de la Información\n"
     ]
    }
   ],
   "source": [
    "for i in range(20,30):\n",
    "    article = articles[i]\n",
    "    print(f\"\\n\\n{article['titulo']}\")\n",
    "    print(article['texto'])\n",
    "    print(f\"INDUSTRIA CLASIFICADA ---> {classify_article(article).choices[0].message.content}\")"
   ]
  },
  {
   "cell_type": "code",
   "execution_count": null,
   "metadata": {},
   "outputs": [],
   "source": []
  }
 ],
 "metadata": {
  "kernelspec": {
   "display_name": "MorningCallApp",
   "language": "python",
   "name": "python3"
  },
  "language_info": {
   "codemirror_mode": {
    "name": "ipython",
    "version": 3
   },
   "file_extension": ".py",
   "mimetype": "text/x-python",
   "name": "python",
   "nbconvert_exporter": "python",
   "pygments_lexer": "ipython3",
   "version": "3.10.0"
  }
 },
 "nbformat": 4,
 "nbformat_minor": 2
}
