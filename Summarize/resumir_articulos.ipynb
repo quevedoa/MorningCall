{
 "cells": [
  {
   "cell_type": "code",
   "execution_count": 1,
   "metadata": {},
   "outputs": [],
   "source": [
    "import os\n",
    "import csv\n",
    "from openai import OpenAI\n",
    "from config import OPENAI_API_KEY\n",
    "os.environ[\"OPENAI_API_KEY\"] = OPENAI_API_KEY"
   ]
  },
  {
   "cell_type": "code",
   "execution_count": 2,
   "metadata": {},
   "outputs": [
    {
     "name": "stdout",
     "output_type": "stream",
     "text": [
      "3\n",
      "[{'title': 'Qué es la ciencia de datos: la alquimia de la era de la inteligencia artificial', 'date': '2023-12-02', 'content': 'En octubre de 2012 la revista Harvard Business Review predijo que la profesión de científico de datos sería la “más sexy del siglo XXI”. Por el momento, todo indica que acertaron. Prueba de ello es que si realizamos una búsqueda en Google Trends del término en inglés “ciencia de datos” (data science) vemos que el interés por esta disciplina no ha hecho más que crecer. Transcurrida una década, la misma revista confirmó en otro artículo que, si bien la profesión continuaba siendo la más sexy del siglo, esta había evolucionado. Ahora veremos cómo. Actualmente, el científico de datos es indispensable en aquellas empresas que ambicionan aprovechar las tecnologías digitales. Como consecuencia, se han definido con mayor precisión roles y responsabilidades y la forma en la que estos profesionales pueden aportar un gran valor. Por este motivo, los mejores científicos de datos no solo son buenos en matemáticas, estadística y computación, sino que también entienden de negocios. Pero para entender mejor esta evolución, hay que aclarar primero qué es la ciencia de datos y para qué sirve. ¿Qué es la ciencia de datos? La ciencia de datos es un área de conocimiento multidisciplinar. Es decir, que nace de la combinación de varias disciplinas científicas: la estadística, las matemáticas y las ciencias de la computación aplicadas al análisis de datos en diversas industrias o áreas de negocio. Su objetivo es la resolución de problemas complejos que requieren el procesamiento y análisis avanzado de datos, aplicados a industrias de cualquier tipo. La ciencia de datos forma parte de la inteligencia artificial que está en boca de todos desde el lanzamiento de ChatGPT en noviembre de 2022. Según la consultora estadounidense de referencia McKinsey, las empresas que usan estas tecnologías están logrando, en tan solo cinco años, el doble de ingresos en comparación con las que no las usan. La ciencia de datos y la inteligencia artificial son herramientas poderosas para la diferenciación de las marcas en mercados muy competitivos. Sectores que han destacado por su rápida y fructífera adopción son la banca, el sector farmacéutico y salud, marketing y ventas, y distribución. ¿Que tipos de científicos de datos hay? La evolución del papel de los científicos de datos se ha debido principalmente a dos factores. En primer lugar, a la integración plena del rol de científico de datos dentro de la organización, proporcionándole competencias y conocimientos específicos del negocio. Un científico de datos alcanza su mayor potencial cuando comprende el propósito de los productos que desarrolla. Por este motivo, las formaciones específicas ya incluyen el desarrollo de competencias más allá de las meramente analíticas o técnicas. En segundo lugar, en el mundo de la ciencia de datos, los análisis de mayor complejidad son también aquellos que generan más valor para las organizaciones y la sociedad. Este hecho queda perfectamente reflejado en la escalera de valor analítico de otra consultora de referencia, Gartner. Para realizar análisis cada vez más complejos, también se necesitan tecnologías de computación cada vez más sofisticadas. Aquí entra en juego la computación en la nube. Al tratarse de tecnologías muy variadas y complejas los científicos de datos han tenido que optar por la especialización, dando lugar a múltiples perfiles. Este alto grado de especialización es también habitual en otras áreas de conocimiento como la medicina o la ingeniería. Por lo tanto, podemos encontrar científicos de datos que realizan tareas muy diferentes dentro de un mismo equipo de trabajo. Desde los que se dedican a almacenar y procesar datos, otros que modelan el dato o los que trabajan con las áreas del negocio en la definición de los casos de uso. La coordinación de todos ellos para conseguir el objetivo final es uno de los retos a los que se enfrentan los proyectos de ciencia de datos. Puede parecer algo sencillo pero no lo es en absoluto. Según un estudio de McKinsey, el 85 % de los proyectos de ciencia de datos nunca llegan a buen puerto. Este alto porcentaje de fracaso se debe fundamentalmente a tres motivos: La dificultad de acceso e integración de los datos, la falta de calidad de los datos, el último, y el más difícil de corregir, es la falta de entendimiento entre las áreas de negocio y los equipos de datos y tecnología. Los humanos somos el eslabón más débil de la cadena. Entonces, en este ecosistema complejo de tipos de científicos de datos surge una duda muy importante.'}, {'title': 'AMLO manda al Senado la segunda terna para designar a la nueva ministra de la SCJN', 'date': '2023-12-01', 'content': 'El presidente Andrés Manuel López Obrador envió al Senado de la República una nueva terna de candidatas para ocupar la vacante en la Suprema Corte de Justicia de la Nación tras la renuncia de Arturo Zaldívar como ministro López Obrador ya presentó un primer listado con tres candidatas al puesto entre las que figuraban Lenia Batres Guadarrama, Bertha María Alcalde Luján y María Estela Ríos González. Sin embargo, la Cámara Alta rechazó que cualquiera de ellas ocupara el cargo. En su conferencia matutina, el presidente López Obrador informó que en la segunda lista de aspirantes entregada a los senadores está formada otra vez por Lenia Batres y Bertha Alcalde Luján, y se suma como nueva propuesta la jefa de la Unidad de Asuntos Jurídicos de la Secretaría de Cultura, Eréndira Cruzvillegas Fuentes. El Senado rechazó la anterior terna de candidatas alegando que todas las aspirantes eran cercanas al mandatario federal. No permitiremos que el presidente siga queriendo destruir la división de poderes y controlar nuestras instituciones\"'}, {'title': 'Grupo Televisa gana, en siete días, más de 40% de valor accionario', 'date': '2023-12-01', 'content': 'Televisa ha tenido un comportamiento positivo de doble dígito, aumentando su valor bursátil, para alcanzar 11.28 pesos por acción, al cierre de este viernes en el índice de la BMV. Aunque ha venido resintiendo una baja su valor accionario, al igual que empresas de diversos ramos, Grupo Televisa, no refleja el valor que hoy le dan los mercados y diversos analistas recomiendan la compra de sus acciones, pues estiman que su valor seguirá subiendo de manera importante. De acuerdo con análisis de diversos especialistas bursátiles, como CitiBanamex, en el mercado mundial se ha venido resintiendo una baja en el valor accionario en empresas, derivado aún de los efectos de la pandemia de Covid-19, altas tasas de interés, entre otros factores. Esto a pesar de que cuentan con una fortaleza financiera sólida y un flujo de caja holgado. La empresa comandada por sus Co CEO’s Alfonso de Angoitia y Bernardo Gómez, muestra fortaleza financiera y un sano rendimiento administrativo. Parece que esa situación no ha pasado desapercibida por los inversionistas, porque la empresa ha tenido un comportamiento positivo en los últimos siete días de doble dígito, aumentando su valor bursátil en más de 40%, para alcanzar 11.28 pesos por acción, al cierre de este viernes en el índice de la Bolsa Mexicana de Valores (BMV). Grupo Televisa es un conglomerado de medios mexicanos, el segundo más grande de América Latina, y posee la segunda red de telecomunicaciones más importante y de mayor alcance en México, siendo el primero en brindar servicios de TV de Paga, a través de sus marcas Izzi y Sky. Al mismo tiempo, tiene negocios relacionados que cuentan con rendimientos positivos, como el equipo de fútbol Club América, el Estadio Azteca; un negocio editorial, y uno de juegos. La empresa actualmente cuenta con más de 2,000 millones de dólares de flujo de efectivo en caja y genera eficiencias en su segmento de cable, para elevar su rendimiento y su margen de ganancia. Sus ventas para 2024 se estiman en casi 78,000 millones de pesos, con un EBITDA de casi 26,000 millones de pesos.'}]\n"
     ]
    }
   ],
   "source": [
    "articles_csv_path = './articulos.csv'\n",
    "articles = []\n",
    "with open(articles_csv_path, 'r', newline='') as csvfile:\n",
    "    csv_reader = csv.DictReader(csvfile)\n",
    "    for row in csv_reader:\n",
    "        article = {\n",
    "            \"title\": row['title'],\n",
    "            \"date\": row['date'],\n",
    "            \"content\": row['content']\n",
    "        }\n",
    "        articles.append(article)\n",
    "\n",
    "articles_subset = articles[0:3]\n",
    "print(len(articles_subset))\n",
    "print(articles_subset)"
   ]
  },
  {
   "cell_type": "code",
   "execution_count": 10,
   "metadata": {},
   "outputs": [],
   "source": [
    "client = OpenAI()\n",
    "\n",
    "new_prompt = f\"You are an intelligent assistant expert in financial and economic events. Your task is to read financial articles and provide a brief, precise and neutral summary in spanish. The summary should:\"\\\n",
    "             \"1. Highlight Key Information.\\n\"\\\n",
    "             \"2. Maintain Factual Accuracy.\\n\"\\\n",
    "             \"3. Be Brief (no more than 50 words).\\n\"\\\n",
    "             \"4. Only display the summary, no newline or special characters.\\n\"\\\n",
    "             \"5. Include Important Figures.\\n\"\\\n",
    "             \"6. Mention Key Players.\\n\"\\\n",
    "             \"Remember to maintain neutrality and avoid speculative language.\"\n",
    "\n",
    "def resumir_articulo(article, role_option):\n",
    "    try:\n",
    "        gpt_roles = [\n",
    "            \"Your task is to provide a concise (20 words max) and accurate summary of news articles in spanish. Focus on the main events, key facts, and essential details. Avoid personal opinions or interpretations, and maintain a neutral tone throughout. Output summary as a JSON with no newline characters.\",\n",
    "            \"Provide a brief yet informative summary of news articles in spanish, ensuring you cover the who, what, when, where, why, and how. Keep the summary to a few sentences no more than 25 words and avoid extraneous details. Prioritize accuracy and clarity. Maintain a neutral tone, output the summary as a JSON with no newline characters.\",\n",
    "            new_prompt\n",
    "        ]\n",
    "        gpt_prompt = f\" Summarize this article: {article['content']}\"\n",
    "        prompt = gpt_roles[role_option] + gpt_prompt\n",
    "        response = client.completions.create(\n",
    "            model=\"gpt-3.5-turbo-instruct\",\n",
    "            seed=21,\n",
    "            prompt=prompt,\n",
    "            temperature=0.3,\n",
    "            max_tokens=500\n",
    "        )\n",
    "        return response\n",
    "    except Exception as e:\n",
    "        print(f\"An error occurred: {e}\")\n",
    "        return None"
   ]
  },
  {
   "cell_type": "code",
   "execution_count": 4,
   "metadata": {},
   "outputs": [],
   "source": [
    "# client = OpenAI()\n",
    "\n",
    "# def resumir_articulo_determinstic(article):\n",
    "#     try:\n",
    "#         gpt_role = \"Provide a brief yet informative summary of news articles in spanish, ensuring you cover the who, what, when, where, why, and how. Keep the summary to a few sentences no more than 25 words and avoid extraneous details. Prioritize accuracy and clarity. Maintain a neutral tone and output JSON.\"\n",
    "#         gpt_prompt = f\" Summarize this article: {article['content']}\"\n",
    "#         response = client.chat.completions.create(\n",
    "#             model=\"gpt-3.5-turbo-1106\",\n",
    "#             response_format={\"type\": \"json_object\"},\n",
    "#             seed=21,\n",
    "#             messages=[\n",
    "#                 {\"role\": \"system\", \"content\": gpt_role},\n",
    "#                 {\"role\": \"user\", \"content\": gpt_prompt}\n",
    "#             ],\n",
    "#             temperature=0.3,\n",
    "#             max_tokens=500\n",
    "#         )\n",
    "#         return response\n",
    "#     except Exception as e:\n",
    "#         print(f\"An error occurred: {e}\")\n",
    "#         return None"
   ]
  },
  {
   "cell_type": "code",
   "execution_count": 5,
   "metadata": {},
   "outputs": [],
   "source": [
    "# summary1 = resumir_articulo(articles[0], role_option=0)"
   ]
  },
  {
   "cell_type": "code",
   "execution_count": 6,
   "metadata": {},
   "outputs": [],
   "source": [
    "# summary2 = resumir_articulo(articles[0], role_option=1)"
   ]
  },
  {
   "cell_type": "code",
   "execution_count": 11,
   "metadata": {},
   "outputs": [],
   "source": [
    "file_path = \"./PruebaResumenes.txt\"\n",
    "resumenes = []\n",
    "for i,article in enumerate(articles[31:36]):\n",
    "    resumenes.append(resumir_articulo(article, 2))"
   ]
  },
  {
   "cell_type": "code",
   "execution_count": 12,
   "metadata": {},
   "outputs": [],
   "source": [
    "all_summaries = \"TODOS LOS RESUMENES\\n\"\n",
    "for i, resumen in enumerate(resumenes):\n",
    "    all_summaries += f\"Resumen {i}: {resumen.choices[0].text.strip()}\\n\"\n",
    "\n",
    "\n",
    "with open(file_path, 'w') as file:\n",
    "    file.write(all_summaries)"
   ]
  },
  {
   "cell_type": "code",
   "execution_count": 13,
   "metadata": {},
   "outputs": [
    {
     "name": "stdout",
     "output_type": "stream",
     "text": [
      "Completion(id='cmpl-8pPUAxzbFZhaAJtYaCExTShPfcQ6e', choices=[CompletionChoice(finish_reason='stop', index=0, logprobs=None, text='\\n\\n\\nEl cierre dinámico de la economía mexicana en 2023 ha llevado a una desaceleración en las expectativas de crecimiento para 2024. Se espera que el PIB aumente un 1.9%, el peor nivel desde 2020. Los riesgos incluyen una desaceleración en Estados Unidos y tensiones comerciales con países del T-MEC. La victoria de Claudia Sheinbaum y el gasto público podrían impulsar la economía.')], created=1707263386, model='gpt-3.5-turbo-instruct', object='text_completion', system_fingerprint=None, usage=CompletionUsage(completion_tokens=108, prompt_tokens=728, total_tokens=836))\n",
      "Completion(id='cmpl-8pPUEVz5jjfDIt1xvkKihjOwov9cM', choices=[CompletionChoice(finish_reason='stop', index=0, logprobs=None, text='\\nEl peso mexicano no es una moneda fuerte en comparación con el dólar estadounidense. Sin embargo, hay otras monedas más baratas en el mundo, como la grivna ucraniana, el won surcoreano, la rupia india, la corona checa y el yen japonés. Estas monedas tienen un tipo de cambio más alto que el peso mexicano en relación al dólar.')], created=1707263390, model='gpt-3.5-turbo-instruct', object='text_completion', system_fingerprint=None, usage=CompletionUsage(completion_tokens=96, prompt_tokens=937, total_tokens=1033))\n",
      "Completion(id='cmpl-8pPUHLzP8xX8hg8dYzJpd3cMsyp5d', choices=[CompletionChoice(finish_reason='stop', index=0, logprobs=None, text='\\n\\nEn septiembre, la llegada de extranjeros a México por vía aérea disminuyó un 5.4% en comparación con el mismo mes del año anterior, alcanzando un total de 1,231,598 personas. El mercado estadounidense, que representa el 60% del total de visitantes, tuvo una caída del 6.7%. Canadá, por otro lado, registró un aumento del 9.5%. Los mercados de Sudamérica también presentaron disminuciones, siendo Colombia el más afectado con una caída del 15.7%. Brasil tuvo el peor desempeño con una disminución del 21.9%. La consultora Gemes advierte sobre la constante caída en la llegada de visitantes a México y la falta de acciones efectivas para detenerla.')], created=1707263393, model='gpt-3.5-turbo-instruct', object='text_completion', system_fingerprint=None, usage=CompletionUsage(completion_tokens=188, prompt_tokens=649, total_tokens=837))\n",
      "Completion(id='cmpl-8pPUPJ8SyKQ7gToFjrWP3Mmy5qema', choices=[CompletionChoice(finish_reason='stop', index=0, logprobs=None, text='\\n\\nLa empresa Unique Fabricating (UFAB) ha anunciado el cierre de su planta en Querétaro, México debido a importantes desafíos. La empresa ha enviado una carta a los trabajadores informando que se terminarán las relaciones laborales a partir del 8 de noviembre. Esta es la segunda empresa en cerrar en México después de una queja laboral. El secretario de Trabajo y Previsión Social y el director del Centro Federal de Conciliación y Registro Laboral están investigando posibles violaciones a los derechos de los trabajadores. El director del Centro Federal ha desestimado que las demandas sindicales hayan causado el cierre de operaciones.')], created=1707263401, model='gpt-3.5-turbo-instruct', object='text_completion', system_fingerprint=None, usage=CompletionUsage(completion_tokens=150, prompt_tokens=514, total_tokens=664))\n",
      "Completion(id='cmpl-8pPUWR5Jg0ERqZpfwDa81qoGPP91i', choices=[CompletionChoice(finish_reason='stop', index=0, logprobs=None, text='\\nEl gobierno de Estados Unidos anunció que se espera una cosecha récord de maíz este año, lo que ha llevado a una disminución en los precios de los futuros. Se estima una producción de 15,234 millones de bushels y un aumento en las existencias de maíz a 2,156 millones de bushels para 2023-24. También se ha aumentado la estimación de la cosecha de soya a 4,129 millones de bushels. El USDA redujo su estimación de cosecha de trigo en Argentina, pero mantuvo sus previsiones de producción de soya y maíz en el país.')], created=1707263408, model='gpt-3.5-turbo-instruct', object='text_completion', system_fingerprint=None, usage=CompletionUsage(completion_tokens=143, prompt_tokens=646, total_tokens=789))\n"
     ]
    }
   ],
   "source": [
    "for resumen in resumenes:\n",
    "    print(resumen)"
   ]
  },
  {
   "cell_type": "code",
   "execution_count": null,
   "metadata": {},
   "outputs": [],
   "source": []
  }
 ],
 "metadata": {
  "kernelspec": {
   "display_name": "Python 3",
   "language": "python",
   "name": "python3"
  },
  "language_info": {
   "codemirror_mode": {
    "name": "ipython",
    "version": 3
   },
   "file_extension": ".py",
   "mimetype": "text/x-python",
   "name": "python",
   "nbconvert_exporter": "python",
   "pygments_lexer": "ipython3",
   "version": "3.10.0"
  }
 },
 "nbformat": 4,
 "nbformat_minor": 2
}
