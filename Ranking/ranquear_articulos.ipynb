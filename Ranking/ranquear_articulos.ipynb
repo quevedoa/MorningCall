{
 "cells": [
  {
   "cell_type": "code",
   "execution_count": 1,
   "metadata": {},
   "outputs": [],
   "source": [
    "import os\n",
    "import csv\n",
    "from openai import OpenAI\n",
    "from config import OPENAI_API_KEY\n",
    "os.environ[\"OPENAI_API_KEY\"] = OPENAI_API_KEY"
   ]
  },
  {
   "cell_type": "code",
   "execution_count": 2,
   "metadata": {},
   "outputs": [],
   "source": [
    "articles_csv_path = './articulos.csv'\n",
    "articles = []\n",
    "with open(articles_csv_path, 'r', newline='') as csvfile:\n",
    "    csv_reader = csv.DictReader(csvfile)\n",
    "    for row in csv_reader:\n",
    "        article = {\n",
    "            \"title\": row['title'],\n",
    "            \"date\": row['date'],\n",
    "            \"content\": row['content']\n",
    "        }\n",
    "        articles.append(article)"
   ]
  },
  {
   "cell_type": "code",
   "execution_count": 3,
   "metadata": {},
   "outputs": [],
   "source": [
    "old_ranking_role = f\"\"\"Your role is to act as an Article Ranking Assistant. You will be provided with financial articles, each containing title, date, and content. Your task is to rate these articles based on the following criteria (each on a scale from 1 to 10):\n",
    "            Scale: How many people the event affected?\n",
    "            Magnitude: How big was the effect?\n",
    "            Potential: How likely it is that the event will cause bigger events?\n",
    "            Immediacy: How close in time is the event?\n",
    "            Significance: How much the event affects the financial market as a whole? \n",
    "            For each article, only provide a total score out of 50 nothing more in JSON format, derived from the individual ratings for each criterion. Your evaluation will help in prioritizing these articles for readers who seek the most relevant and insightful financial news.\"\"\",\n",
    "\n",
    "# Sector Relevance: how relevant is to the {sector_financiero} sector\n",
    "ranking_role = f\"\"\"Your role is to act as an Article Ranking Assistant for mexican investors. You will be provided with financial articles, each containing title, date, and content. Your task is to rate these articles based on the following criteria:\n",
    "            Local Market Impact: How significant is it to the Mexican financial market in the near future?\n",
    "            Economy: How significant is it to key economic indicators of Mexico?\n",
    "            Politics: How significant is it to the political climate of Mexico?\n",
    "            Prices: How impactful is it to the change in price of a financial instrument?\n",
    "            Risk: How much risk does it imply for financial investors?\n",
    "            Magnitude: If the event is international, how big and significant is it?\n",
    "            Timeliness: How outdated is the article?\n",
    "            Respond to me by ONLY provide a JSON containing a score from 0 to 5 derived from the individual ratings for each criterion.\"\"\"\n",
    "\n",
    "def ranking_prompt(article):\n",
    "    return f\"\"\"Analyze this article and return the scores JSON:\n",
    "        Title: {article['title']}\n",
    "        Date: {article['date']}\n",
    "        Content: {article['content']}\"\"\""
   ]
  },
  {
   "cell_type": "code",
   "execution_count": 4,
   "metadata": {},
   "outputs": [],
   "source": [
    "client = OpenAI()\n",
    "\n",
    "def rank_article(article, sector_financiero=\"\"):\n",
    "    try:\n",
    "        gpt_role = ranking_role\n",
    "        gpt_prompt = ranking_prompt(article)\n",
    "        response = client.chat.completions.create(\n",
    "            model=\"gpt-3.5-turbo\",\n",
    "            seed=21,\n",
    "            temperature=0.3,\n",
    "            messages=[\n",
    "                {\"role\": \"system\", \"content\": gpt_role},\n",
    "                {\"role\": \"user\", \"content\": gpt_prompt}\n",
    "            ]\n",
    "        )\n",
    "        return response\n",
    "    except Exception as e:\n",
    "        print(f\"An error occurred: {e}\")\n",
    "        return None"
   ]
  },
  {
   "cell_type": "code",
   "execution_count": 12,
   "metadata": {},
   "outputs": [],
   "source": [
    "client = OpenAI()\n",
    "\n",
    "def rank_article_instruct(article, sector_financiero=\"\"):\n",
    "    try:\n",
    "        gpt_role =  ranking_role\n",
    "        gpt_prompt = ranking_prompt(article)\n",
    "        response = client.completions.create(\n",
    "            model=\"gpt-3.5-turbo-instruct\",\n",
    "            seed=21,\n",
    "            temperature=1.5,\n",
    "            prompt = gpt_role + gpt_prompt,\n",
    "            max_tokens=500\n",
    "        )\n",
    "        return response\n",
    "    except Exception as e:\n",
    "        print(f\"An error occurred: {e}\")\n",
    "        return None"
   ]
  },
  {
   "cell_type": "code",
   "execution_count": 8,
   "metadata": {},
   "outputs": [],
   "source": [
    "articulos_importancia_variada = []\n",
    "for i in range(3):\n",
    "    articulos_importancia_variada.append(articles[i])"
   ]
  },
  {
   "cell_type": "code",
   "execution_count": 13,
   "metadata": {},
   "outputs": [],
   "source": [
    "calificaciones_test = []\n",
    "calificaciones_test_instruct = []\n",
    "for article in articulos_importancia_variada:\n",
    "    calificaciones_test.append(rank_article(article))\n",
    "    calificaciones_test_instruct.append(rank_article_instruct(article))"
   ]
  },
  {
   "cell_type": "code",
   "execution_count": 14,
   "metadata": {},
   "outputs": [
    {
     "name": "stdout",
     "output_type": "stream",
     "text": [
      "América escala desde el Azteca a la semifinal -> {\n",
      "  \"Local Market Impact\": 1,\n",
      "  \"Economy\": 0,\n",
      "  \"Politics\": 0,\n",
      "  \"Prices\": 0,\n",
      "  \"Risk\": 0,\n",
      "  \"Magnitude\": 0,\n",
      "  \"Timeliness\": 5\n",
      "}\n",
      "AMLO manda al Senado la segunda terna para designar a la nueva ministra de la SCJN -> {\n",
      "  \"Local Market Impact\": 0,\n",
      "  \"Economy\": 0,\n",
      "  \"Politics\": 4,\n",
      "  \"Prices\": 0,\n",
      "  \"Risk\": 0,\n",
      "  \"Magnitude\": 0,\n",
      "  \"Timeliness\": 5\n",
      "}\n",
      "Grupo Televisa gana, en siete días, más de 40% de valor accionario -> {\n",
      "  \"Local Market Impact\": 4,\n",
      "  \"Economy\": 3,\n",
      "  \"Politics\": 1,\n",
      "  \"Prices\": 5,\n",
      "  \"Risk\": 2,\n",
      "  \"Magnitude\": 2,\n",
      "  \"Timeliness\": 5\n",
      "}\n"
     ]
    }
   ],
   "source": [
    "for i, calificacion in enumerate(calificaciones_test):\n",
    "    print(f\"{articulos_importancia_variada[i]['title']} -> {calificacion.choices[0].message.content}\")"
   ]
  },
  {
   "cell_type": "code",
   "execution_count": 15,
   "metadata": {},
   "outputs": [
    {
     "name": "stdout",
     "output_type": "stream",
     "text": [
      "América escala desde el Azteca a la semifinal -> {\n",
      "   \"Local Market Impact\": 5,\n",
      "   \"Economy\": 4,\n",
      "   \"Politics\": 1,\n",
      "   \"Prices\": 0,\n",
      "   \"Risk\": 3,\n",
      "   \"Magnitude\": 1,\n",
      "   \"Timeliness\": 5\n",
      "}\n",
      "AMLO manda al Senado la segunda terna para designar a la nueva ministra de la SCJN -> \n",
      "Grupo Televisa gana, en siete días, más de 40% de valor accionario -> ----------------------------------------------------------------\n",
      "        {\"local_market_impact\": 4, \n",
      "            \"economy\": 4,\n",
      "            \"politics\": 3,\n",
      "            \"prices\": 3,\n",
      "            \"risk\": 3,\n",
      "            \"magnitude\": 1, \n",
      "            \"timeliness\": 1\n",
      "        }\n"
     ]
    }
   ],
   "source": [
    "for i, calificacion in enumerate(calificaciones_test_instruct):\n",
    "    print(f\"{articulos_importancia_variada[i]['title']} -> {calificacion.choices[0].text.strip()}\")"
   ]
  }
 ],
 "metadata": {
  "kernelspec": {
   "display_name": "Python 3",
   "language": "python",
   "name": "python3"
  },
  "language_info": {
   "codemirror_mode": {
    "name": "ipython",
    "version": 3
   },
   "file_extension": ".py",
   "mimetype": "text/x-python",
   "name": "python",
   "nbconvert_exporter": "python",
   "pygments_lexer": "ipython3",
   "version": "3.10.0"
  }
 },
 "nbformat": 4,
 "nbformat_minor": 2
}
