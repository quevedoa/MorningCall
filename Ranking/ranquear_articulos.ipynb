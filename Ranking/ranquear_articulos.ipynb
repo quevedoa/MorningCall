{
 "cells": [
  {
   "cell_type": "code",
   "execution_count": 2,
   "metadata": {},
   "outputs": [],
   "source": [
    "import os\n",
    "import csv\n",
    "from openai import OpenAI\n",
    "from config import OPENAI_API_KEY\n",
    "os.environ[\"OPENAI_API_KEY\"] = OPENAI_API_KEY"
   ]
  },
  {
   "cell_type": "code",
   "execution_count": 10,
   "metadata": {},
   "outputs": [
    {
     "name": "stdout",
     "output_type": "stream",
     "text": [
      "3\n",
      "[{'title': 'Tesla: Nuevo León anuncia licitación para la construcción de un puente de acceso a la planta', 'date': '2023-11-09 21:51:10+00:00', 'content': 'El Gobierno de Nuevo León lanzó la licitación para la construcción de un puente de acceso a la planta de vehículos eléctricos de Tesla, dirigida por Elon Musk, en el municipio de Santa Catarina.Mediante un comunicado, el gobierno a cargo de Samuel García, informó que la convocatoria forma parte del Proyecto Integral de las obras necesarias para los accesos a la planta armadora de autos eléctricos.Las licitaciones consisten en un Puente Superior Vehicular, rampas de acceso y la ampliación de un tercer carril sobre la carretera libre Monterrey – Saltillo (…) Y son complemento a los estudios y levantamientos realizados en fechas anterioresexplica el comunicado.Así nos estamos preparando para la llegada de Tesla, con una movilidad de PRIMER MUNDO. Un nuevo puente, la ampliación de tres carriles de la carretera y nuevas rampas de acceso. ¡Así será la entrada a Tesla! ¡CHULADA! pic.twitter.com/ZdTyAQNXI2 — Samuel García (@samuel_garcias) November 8, 2023El objetivo de las obras es atender la proyección del incremento de flujo vehicular que se ha registrado y se espera tener en el estado, derivado de las estrategias de promoción para captar inversión extranjera directa (IED) y aprovechar el nearshoring.El mes pasado, el CEO de Tesla informó en llamada con analistas tras el reporte trimestral que la fábrica de vehículos eléctricos en Nuevo León sí será construida, sin embargo, el empresario expresó preocupaciones por el estado actual de la economía global.Musk también señaló que la armadora de autos está “sentando las bases” para levantar la gigafábrica. A principios de octubre, el gobierno de Nuevo León dijo que la compañía les solicitó mejorar aspectos como la electricidad, el agua y el transporte previo al inicio de la edificación.¿Cómo va el mercado de vehículos eléctricos en México?Si bien la tendencia hacia la electromovilidad es de suma importancia para mitigar las emisiones contaminantes provenientes del uso de vehículos de combustión interna, el camino en México en la transición hacia autos eléctricos aún está en desarrollo y con algunos desafíos por resolver ante la falta de infraestructura.En conferencia reciente con medios, el director de la Asociación Mexicana de la Industria Automotriz (AMIA), Odracir Barquera, comentó que se espera que el mercado de vehículos eléctricos incremente en los siguientes años, pero apuntó que sí no existe una política de electromovilidad, la penetración será limitada.Sí no tenemos algún tipo de política nacional de electromovilidad, consideramos que la penetración de vehículos eléctricos hacia 2030 será de alrededor del 19% en las ventas totales, pero si contamos con una política adecuada e integral, ese porcentaje se podría traducir en 39% de penetración de las unidadesdijo el directivo.Por el lado de la infraestructura, Barquera comentó que es claro que el país está muy por debajo de las necesidades de cargadores para vehículos eléctricos, por lo tanto, sostuvo que es importante trabajar en el tema de electrolineras, en la calidad para tener esos puntos de carga y en estimular la producción y consumo de ese tipo de autos.De acuerdo con la Industria Nacional de Autopartes (INA), existen cerca de 1,189 estaciones de carga para vehículos ligeros eléctricos en México, lo que se traduce en un total de 2,089 conectores, de los cuales, 435 se encuentran en la Ciudad de México, 212 en Jalisco y 192 en Nuevo León.Podemos ver qué prácticamente todos los estados del país ya cuentan con conectores para vehículos eléctricos. (Aunque) también necesitamos seguir impulsando la electromovilidad, sobre todo en el tema de componentes en la cadena de proveeduría y las electrolinerasdijo Armando Cortés, director general de la INA.Mercado de vehículos h&e representa el 5% de las ventas totalesEl dato de venta de vehículos híbridos y eléctricos —que tiene dos meses de desfase— mostró que durante agosto se comercializaron 6,309 unidades en México, lo que se traduce en un crecimiento anual de 53.6%.Dicha cifra también representa el 5.5% de las ventas totales de vehículos ligeros en México, que ascendieron a 113,672 unidades, con cifras revisadas, de acuerdo con datos del Instituto Nacional de Estadística y Geografía (Inegi).(Agosto) es el tercer mes consecutivo en el que el mercado de vehículos híbridos y eléctricos está por arriba del 5%, lo que ha contribuido para que el promedio de los primeros ocho meses de 2023 represente el 5% del mercado de ventas totalesdijo Barquera en conferencia.De la venta de vehículos de nuevas energías, el segmento de autos híbridos representó el 70% de la comercialización total de agosto, mientras que el 22% lo ocuparon los híbridos y el 8% restante las unidades híbridas conectables.En tanto, los cinco estados con mayor representación de venta de vehículos híbridos y eléctricos se encuentran son los siguientes:Ciudad de México: 27.9%Estado de México: 11.8%Nuevo León: 9.4%Jalisco: 7.6%Puebla: 6.7%Lee también:Para más información visita nuestro canal de YouTube'}, {'title': 'Ganancias de Sony caen 29% en el 2TF', 'date': '2023-11-09 21:06:31+00:00', 'content': 'La firma japonesa Sony informó sobre un descenso en su ganancia operativa en el segundo trimestre fiscal, debido a que la compañía electrónica presentó una debilidad en su negocio de sensores de imágenes o chips.De acuerdo con el informe presentado por la compañía, en relación a los ingresos Sony obtuvo 2.80 billones de yenes (18,500 millones de dólares) frente a los 2.87 billones esperados por el mercado.La ganancia operativa de la empresa fue de 263,000 millones de yenes, cifra por debajo de los 304,400 millones de yenes esperados, es decir, que la empresa tuvo una caída de 29% en sus ganancias año con año.Sony atribuyó el descalabro a la debilidad de sus negocios de chips que tuvo una caída de 28%; asimismo la empresa dijo que tuvo un descenso en el beneficios de sus negocios de servicios financieros y entretenimiento.La compañía suministra chips de cámara a gigantes de la fabricación de tecnología como Apple, que utiliza los semiconductores de Sony para la fabricación de los iPhone.Sony incrementa sus previsiones en ventasA pesar de la caída en sus ganancias, Sony incrementó su pronóstico de ventas para el resto de 2023. Espera ventas totales por 12.4 billones de yenes, cifra por arriba de su pronóstico anterior de 12.2 billones de yenes.Sony atribuyó la mejora en su pronóstico de ingresos al desempeño en su negocio de videojuegos, música y soluciones de imágenes y sensores. La compañía ha tenido un buen comienzo con su reciente juego Marvel’s Spider-Man 2, que es exclusivo para PS5.De acuerdo con la empresa, el videojuego vendió más de 2.5 millones de copias en su primer día, lo que lo convierte en el juego de PlayStation más vendido en la historia durante un periodo de 24 horas.La empresa dijo que vendió 4.9 millones de unidades PlayStation 5 en el segundo trimestre fiscal, cifra por arriba de los 3.3 millones vendidas en el primer trimestre fiscal.Por su parte, el vicepresidente y director de marketing de Sony, Eric Lempel, aseguro que este será el primer año que la PS5 estará completamente abastecida, por lo que esperan que las ventanas alcance el objetivo de 25 millones de unidades vendidas este año.Te puede interesar:Para más información visita nuestro canal de YouTube'}, {'title': 'Santander y GAC Motor ofrecerán financiamiento de autos', 'date': '2023-11-09 20:32:36+00:00', 'content': 'Banco Santander y GAC Motor anunciaron una alianza estratégica en donde la española fungirá como el brazo financiero de la automotriz china para facilitar la adquisición de vehículos en el mercado mexicano.El director ejecutivo de Financiamiento Automotriz en Santander México, Julio Ascorve Zermeño, comentó que tienen estimado alcanzar las 10,000 unidades financiadas para el próximo año.A través de un comunicado, las firmas detallaron que el acuerdo permitirá que los clientes cuenten con tasas y enganches más atractivos, así como diferentes opciones de créditos y planes de financiamiento.De acuerdo con el presidente de GAC Motor México, Rafe Huang, la cooperación con Banco Santander les permitirá satisfacer una necesidad que existe entre los consumidores, además de favorecer su presencia en el mercado nacional.El compromiso de GAC Motor está en ofrecer a los consumidores mexicanos, el mejor producto, brindando una oferta de compra más completa y personalizada, gracias al respaldo de una de las instituciones financieras más importantes del paísapuntó el directivo.Banco Santander forma parte del plan de GAC MotorLa firma automotriz china comenzará sus operaciones en el mercado nacional a mediados de noviembre con la comercialización de dos vehículos, la SUV GS8 y el crossover de cinco plazas EMZOOM.Como parte de la estrategia de GAC Motor, en los próximos meses estará comercializando vehículos de combustión interna, eléctricos e híbridos, a través de una red de 30 distribuidores.Actualmente Banco Santander se ubica en la tercera posición del financiamiento automotriz dentro del G7 y cuenta con el objetivo de llegar al segundo lugar en 2024.No dejes de leer:Para más información visita nuestro canal de YouTube'}]\n"
     ]
    }
   ],
   "source": [
    "articles_csv_path = './articulos.csv'\n",
    "articles = []\n",
    "with open(articles_csv_path, 'r', newline='') as csvfile:\n",
    "    csv_reader = csv.DictReader(csvfile)\n",
    "    for row in csv_reader:\n",
    "        article = {\n",
    "            \"title\": row['title'],\n",
    "            \"date\": row['date'],\n",
    "            \"content\": row['content']\n",
    "        }\n",
    "        articles.append(article)\n",
    "\n",
    "articles_subset = articles[0:3]\n",
    "print(len(articles_subset))\n",
    "print(articles_subset)"
   ]
  },
  {
   "cell_type": "code",
   "execution_count": null,
   "metadata": {},
   "outputs": [],
   "source": []
  },
  {
   "cell_type": "code",
   "execution_count": 18,
   "metadata": {},
   "outputs": [],
   "source": [
    "client = OpenAI()\n",
    "\n",
    "def rank_article(article):\n",
    "    try:\n",
    "        # gpt_role = \"\"\"Your role is to act as an Article Ranking Assistant. You will be provided with financial articles, each containing a title, date, and content. Your task is to analyze and rank these articles based on the following criteria:\n",
    "        #     Scale: How many people the event affected? Rate this on a scale from 1 to 10.\n",
    "        #     Magnitude: How big was the effect, potential: how likely it is that the event will cause bigger events? Rate this on a scale from 1 to 10.\n",
    "        #     Immediacy: How close in time is the event? Rate this on a scale from 1 to 10.\n",
    "        #     # For each article, provide a brief summary of your analysis and a total score out of 30, derived from the individual ratings for each criterion. Your evaluation will help in prioritizing these articles for readers who seek the most relevant and insightful financial news.\"\"\"\n",
    "        gpt_role = \"\"\"Your role is to act as an Article Ranking Assistant. You will be provided with financial articles, each containing a title, date, and content. Your task is to analyze and rank these articles based on the following criteria:\n",
    "            Scale: How many people the event affected? Rate this on a scale from 1 to 10.\n",
    "            Magnitude: How big was the effect, potential: how likely it is that the event will cause bigger events? Rate this on a scale from 1 to 10.\n",
    "            Immediacy: How close in time is the event? Rate this on a scale from 1 to 10.\n",
    "            For each article, only provide a total score out of 30 nothing more, derived from the individual ratings for each criterion. Your evaluation will help in prioritizing these articles for readers who seek the most relevant and insightful financial news.\"\"\"\n",
    "        gpt_prompt = f\"\"\"Analyze this article and give me a total score out of 30 nothing more:\n",
    "                            Title: {article['title']}\n",
    "                            Date: {article['date']}\n",
    "                            Content: {article['content']}\"\"\"\n",
    "        response = client.chat.completions.create(\n",
    "            model=\"gpt-3.5-turbo\",\n",
    "            messages=[\n",
    "                {\"role\": \"system\", \"content\": gpt_role},\n",
    "                {\"role\": \"user\", \"content\": gpt_prompt}\n",
    "            ]\n",
    "        )\n",
    "        return response\n",
    "    except Exception as e:\n",
    "        print(f\"An error occurred: {e}\")\n",
    "        return None"
   ]
  },
  {
   "cell_type": "code",
   "execution_count": 48,
   "metadata": {},
   "outputs": [],
   "source": [
    "client = OpenAI()\n",
    "\n",
    "def rank_article(article):\n",
    "    try:\n",
    "        gpt_role = \"\"\"Your role is to act as an Article Ranking Assistant. You will be provided with financial articles, each containing title, date, and content. Your task is to rate these articles based on the following criteria (each on a scale from 1 to 10):\n",
    "            Scale: How many people the event affected?\n",
    "            Magnitude: How big was the effect?\n",
    "            Potential: How likely it is that the event will cause bigger events?\n",
    "            Immediacy: How close in time is the event?\n",
    "            Significance: How much the event affects the financial market as a whole? \n",
    "            For each article, only provide a total score out of 50 nothing more in JSON format, derived from the individual ratings for each criterion. Your evaluation will help in prioritizing these articles for readers who seek the most relevant and insightful financial news.\"\"\"\n",
    "        gpt_prompt = f\"\"\"Analyze this article and give me a total score out of 30 nothing more:\n",
    "                            Title: {article['title']}\n",
    "                            Date: {article['date']}\n",
    "                            Content: {article['content']}\"\"\"\n",
    "        response = client.chat.completions.create(\n",
    "            model=\"gpt-3.5-turbo\",\n",
    "            seed=21,\n",
    "            temperature=0.5,\n",
    "            messages=[\n",
    "                {\"role\": \"system\", \"content\": gpt_role},\n",
    "                {\"role\": \"user\", \"content\": gpt_prompt}\n",
    "            ]\n",
    "        )\n",
    "        return response\n",
    "    except Exception as e:\n",
    "        print(f\"An error occurred: {e}\")\n",
    "        return None"
   ]
  },
  {
   "cell_type": "code",
   "execution_count": 17,
   "metadata": {},
   "outputs": [],
   "source": [
    "calificaciones = []\n",
    "for article in articles[0:3]:\n",
    "    calificaciones.append(rank_article(article))"
   ]
  },
  {
   "cell_type": "code",
   "execution_count": 18,
   "metadata": {},
   "outputs": [
    {
     "name": "stdout",
     "output_type": "stream",
     "text": [
      "Tesla: Nuevo León anuncia licitación para la construcción de un puente de acceso a la planta -> { \"total_score\": 24 }\n",
      "Ganancias de Sony caen 29% en el 2TF -> {\"total_score\": 21}\n",
      "Santander y GAC Motor ofrecerán financiamiento de autos -> {\n",
      "  \"total_score\": 25\n",
      "}\n",
      "Aceleran reactivación de Acapulco: hoteles prevén reabrir el 15 de diciembre -> {\n",
      "   \"total_score\": 21\n",
      "}\n",
      "Softbank cae en el 2T fiscal tras golpe de WeWork -> {\n",
      "  \"total_score\": 23\n",
      "}\n"
     ]
    }
   ],
   "source": [
    "for i, calificacion in enumerate(calificaciones):\n",
    "    print(f\"{articles[i]['title']} -> {calificacion.choices[0].message.content}\")"
   ]
  },
  {
   "cell_type": "code",
   "execution_count": 31,
   "metadata": {},
   "outputs": [],
   "source": [
    "articulos_importancia_variada = []\n",
    "articulos_importancia_variada.append(articles[37])\n",
    "articulos_importancia_variada.append(articles[84]) # Articulo baja importancia 86\n",
    "articulos_importancia_variada.append(articles[10])"
   ]
  },
  {
   "cell_type": "code",
   "execution_count": 34,
   "metadata": {},
   "outputs": [
    {
     "name": "stdout",
     "output_type": "stream",
     "text": [
      "{\n",
      "  \"total_score\": 17\n",
      "}\n"
     ]
    }
   ],
   "source": [
    "print(rank_article(articulos_importancia_variada[0]).choices[0].message.content)"
   ]
  },
  {
   "cell_type": "code",
   "execution_count": 46,
   "metadata": {},
   "outputs": [],
   "source": [
    "calificaciones_test = []\n",
    "for article in articulos_importancia_variada:\n",
    "    calificaciones_test.append(rank_article(article))"
   ]
  },
  {
   "cell_type": "code",
   "execution_count": 47,
   "metadata": {},
   "outputs": [
    {
     "name": "stdout",
     "output_type": "stream",
     "text": [
      "Wozniak, cofundador de Apple, deja hospital en CDMX tras sufrir derrame cerebral menor -> {\n",
      "  \"total_score\": 25\n",
      "}\n",
      "Virgin Galactic sube en Bolsa tras anunciar pausa a vuelos -> {\n",
      "    \"total_score\": 40\n",
      "}\n",
      "Wall Street cierra negativo -> {\n",
      "  \"total_score\": 28\n",
      "}\n"
     ]
    }
   ],
   "source": [
    "for i, calificacion in enumerate(calificaciones_test):\n",
    "    print(f\"{articulos_importancia_variada[i]['title']} -> {calificacion.choices[0].message.content}\")"
   ]
  }
 ],
 "metadata": {
  "kernelspec": {
   "display_name": "Python 3",
   "language": "python",
   "name": "python3"
  },
  "language_info": {
   "codemirror_mode": {
    "name": "ipython",
    "version": 3
   },
   "file_extension": ".py",
   "mimetype": "text/x-python",
   "name": "python",
   "nbconvert_exporter": "python",
   "pygments_lexer": "ipython3",
   "version": "3.10.0"
  }
 },
 "nbformat": 4,
 "nbformat_minor": 2
}
